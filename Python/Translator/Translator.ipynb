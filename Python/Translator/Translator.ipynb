{
 "cells": [
  {
   "cell_type": "markdown",
   "metadata": {},
   "source": [
    "### Install translate from pip by running following command"
   ]
  },
  {
   "cell_type": "markdown",
   "metadata": {},
   "source": [
    "pip install translate\n"
   ]
  },
  {
   "cell_type": "code",
   "execution_count": 1,
   "metadata": {},
   "outputs": [
    {
     "name": "stdout",
     "output_type": "stream",
     "text": [
      "Enter the sentence you would like to translate : I love eating pizza\n",
      "Enter the language to which you want sentence to be translated : hindi\n",
      "मुझे पिज्जा खाना बहुत पसंद है\n"
     ]
    }
   ],
   "source": [
    "#importing Translator \n",
    "from translate import Translator\n",
    "#taking inputs of sentence and language\n",
    "sentence = input(\"Enter the sentence you would like to translate : \")\n",
    "language = input(\"Enter the language to which you want sentence to be translated : \")\n",
    "#creating Translator object\n",
    "translator = Translator(to_lang= language)\n",
    "translation = translator.translate(sentence)\n",
    "#printing the translated sentence\n",
    "print(translation)"
   ]
  },
  {
   "cell_type": "markdown",
   "metadata": {},
   "source": [
    "### Checking our translator with different language."
   ]
  },
  {
   "cell_type": "code",
   "execution_count": 2,
   "metadata": {},
   "outputs": [
    {
     "name": "stdout",
     "output_type": "stream",
     "text": [
      "Enter the sentence you would like to translate : I love eating pizza\n",
      "Enter the language to which you want sentence to be translated : german\n",
      "Ich liebe es Pizza zu essen\n"
     ]
    }
   ],
   "source": [
    "from translate import Translator\n",
    "sentence = input(\"Enter the sentence you would like to translate : \")\n",
    "language = input(\"Enter the language to which you want sentence to be translated : \")\n",
    "translator = Translator(to_lang= language)\n",
    "translation = translator.translate(sentence)\n",
    "print(translation)"
   ]
  },
  {
   "cell_type": "markdown",
   "metadata": {},
   "source": [
    "***You can test this translator by typing different languages***"
   ]
  }
 ],
 "metadata": {
  "kernelspec": {
   "display_name": "Python 3",
   "language": "python",
   "name": "python3"
  },
  "language_info": {
   "codemirror_mode": {
    "name": "ipython",
    "version": 3
   },
   "file_extension": ".py",
   "mimetype": "text/x-python",
   "name": "python",
   "nbconvert_exporter": "python",
   "pygments_lexer": "ipython3",
   "version": "3.7.6"
  }
 },
 "nbformat": 4,
 "nbformat_minor": 4
}
